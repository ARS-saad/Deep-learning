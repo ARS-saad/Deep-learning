{
 "cells": [
  {
   "cell_type": "markdown",
   "id": "9c27b323-1065-403d-a714-36249c084678",
   "metadata": {},
   "source": [
    "# Library"
   ]
  },
  {
   "cell_type": "code",
   "execution_count": 12,
   "id": "3df94b24-7d9f-49c5-ab9f-f0c5b27f6a5e",
   "metadata": {},
   "outputs": [],
   "source": [
    "import matplotlib.pyplot as plt\n",
    "import numpy as np\n",
    "import tensorflow  as tf \n",
    "from keras import Sequential \n",
    "from keras.layers import Dense\n",
    "from keras.datasets import mnist\n",
    "#import tensorflow_datasets as tfds\n",
    "from sklearn.metrics import confusion_matrix, ConfusionMatrixDisplay\n",
    "#from tensorflow.keras.models import Sequential"
   ]
  },
  {
   "cell_type": "markdown",
   "id": "afa49158-6676-495a-9aa9-276799bd7b05",
   "metadata": {},
   "source": [
    "# Dataset Loading"
   ]
  },
  {
   "cell_type": "code",
   "execution_count": 13,
   "id": "c3d99e19-928e-438c-b016-f54a3fe3e4a6",
   "metadata": {},
   "outputs": [],
   "source": [
    "(x_train, y_train), (x_test, y_test) = mnist.load_data()"
   ]
  },
  {
   "cell_type": "code",
   "execution_count": 15,
   "id": "e7dc66a0-9807-4a6f-a93b-bc011f771bad",
   "metadata": {},
   "outputs": [
    {
     "data": {
      "text/plain": [
       "60000"
      ]
     },
     "execution_count": 15,
     "metadata": {},
     "output_type": "execute_result"
    }
   ],
   "source": [
    "len(x_train)"
   ]
  },
  {
   "cell_type": "code",
   "execution_count": 20,
   "id": "0e6f550d-21ea-4c2b-878b-615c013c9f49",
   "metadata": {},
   "outputs": [
    {
     "data": {
      "image/png": "[encoded data removed]",
      "text/plain": [
       "<Figure size 640x480 with 1 Axes>"
      ]
     },
     "metadata": {},
     "output_type": "display_data"
    }
   ],
   "source": [
    "plt.imshow(x_train[0])\n",
    "plt.title(f\"Label: {y_train[0]}\")\n",
    "plt.axis('off')\n",
    "plt.show()"
   ]
  },
  {
   "cell_type": "markdown",
   "id": "c94abe7a-628e-4374-8725-772c60e88f05",
   "metadata": {},
   "source": [
    "# Normalization"
   ]
  },
  {
   "cell_type": "code",
   "execution_count": 21,
   "id": "d0723af5-300b-4665-89a7-f83074eeebc3",
   "metadata": {},
   "outputs": [],
   "source": [
    "x_train = x_train.reshape(-1, 28*28) / 255\n",
    "x_test = x_test.reshape(-1, 28*28) / 255"
   ]
  },
  {
   "cell_type": "markdown",
   "id": "d8ffbada-7682-4e40-83c1-0cd830367b3e",
   "metadata": {},
   "source": [
    "# Define the Neural Network Architecture"
   ]
  },
  {
   "cell_type": "code",
   "execution_count": 24,
   "id": "a633ee7a-7349-4347-aefc-7420fb410052",
   "metadata": {},
   "outputs": [],
   "source": [
    "model = Sequential([\n",
    "    Dense(128, activation='relu', input_shape=(28*28,)),  # Input layer\n",
    "    Dense(64, activation='relu'),                         # Hidden layer\n",
    "    Dense(10, activation='softmax')                       # Output layer\n",
    "])"
   ]
  },
  {
   "cell_type": "markdown",
   "id": "db8e52af-26ac-4d25-a8fb-d39380c69ae9",
   "metadata": {},
   "source": [
    "# Compile the Model"
   ]
  },
  {
   "cell_type": "code",
   "execution_count": 25,
   "id": "aa852f6e-a2bf-4ef1-8388-b96867f61c13",
   "metadata": {},
   "outputs": [],
   "source": [
    "model.compile(\n",
    "    optimizer='adam',\n",
    "    loss='sparse_categorical_crossentropy',\n",
    "    metrics=['accuracy']\n",
    ")"
   ]
  },
  {
   "cell_type": "markdown",
   "id": "d221ce0b-ecdb-429c-b664-cbe305462b55",
   "metadata": {},
   "source": [
    "# Train the model"
   ]
  },
  {
   "cell_type": "code",
   "execution_count": 26,
   "id": "b1fd7019-7043-4028-b808-e8a2f6cdad66",
   "metadata": {},
   "outputs": [
    {
     "name": "stdout",
     "output_type": "stream",
     "text": [
      "Epoch 1/10\n"
     ]
    },
    {
     "name": "stderr",
     "output_type": "stream",
     "text": [
      "2025-04-23 20:28:07.792287: W external/local_tsl/tsl/framework/cpu_allocator_impl.cc:83] Allocation of 141120000 exceeds 10% of free system memory.\n"
     ]
    },
    {
     "name": "stdout",
     "output_type": "stream",
     "text": [
      "\u001b[1m1392/1407\u001b[0m \u001b[32m━━━━━━━━━━━━━━━━━━━\u001b[0m\u001b[37m━\u001b[0m \u001b[1m0s\u001b[0m 4ms/step - accuracy: 0.8564 - loss: 0.4890"
     ]
    },
    {
     "name": "stderr",
     "output_type": "stream",
     "text": [
      "2025-04-23 20:28:15.046223: W external/local_tsl/tsl/framework/cpu_allocator_impl.cc:83] Allocation of 47040000 exceeds 10% of free system memory.\n"
     ]
    },
    {
     "name": "stdout",
     "output_type": "stream",
     "text": [
      "\u001b[1m1407/1407\u001b[0m \u001b[32m━━━━━━━━━━━━━━━━━━━━\u001b[0m\u001b[37m\u001b[0m \u001b[1m8s\u001b[0m 4ms/step - accuracy: 0.8571 - loss: 0.4866 - val_accuracy: 0.9554 - val_loss: 0.1545\n",
      "Epoch 2/10\n",
      "\u001b[1m1407/1407\u001b[0m \u001b[32m━━━━━━━━━━━━━━━━━━━━\u001b[0m\u001b[37m\u001b[0m \u001b[1m4s\u001b[0m 3ms/step - accuracy: 0.9631 - loss: 0.1225 - val_accuracy: 0.9639 - val_loss: 0.1191\n",
      "Epoch 3/10\n",
      "\u001b[1m1407/1407\u001b[0m \u001b[32m━━━━━━━━━━━━━━━━━━━━\u001b[0m\u001b[37m\u001b[0m \u001b[1m5s\u001b[0m 3ms/step - accuracy: 0.9760 - loss: 0.0761 - val_accuracy: 0.9671 - val_loss: 0.1120\n",
      "Epoch 4/10\n",
      "\u001b[1m1407/1407\u001b[0m \u001b[32m━━━━━━━━━━━━━━━━━━━━\u001b[0m\u001b[37m\u001b[0m \u001b[1m4s\u001b[0m 3ms/step - accuracy: 0.9827 - loss: 0.0547 - val_accuracy: 0.9706 - val_loss: 0.1028\n",
      "Epoch 5/10\n",
      "\u001b[1m1407/1407\u001b[0m \u001b[32m━━━━━━━━━━━━━━━━━━━━\u001b[0m\u001b[37m\u001b[0m \u001b[1m5s\u001b[0m 3ms/step - accuracy: 0.9859 - loss: 0.0426 - val_accuracy: 0.9697 - val_loss: 0.1096\n",
      "Epoch 6/10\n",
      "\u001b[1m1407/1407\u001b[0m \u001b[32m━━━━━━━━━━━━━━━━━━━━\u001b[0m\u001b[37m\u001b[0m \u001b[1m5s\u001b[0m 4ms/step - accuracy: 0.9894 - loss: 0.0342 - val_accuracy: 0.9705 - val_loss: 0.1054\n",
      "Epoch 7/10\n",
      "\u001b[1m1407/1407\u001b[0m \u001b[32m━━━━━━━━━━━━━━━━━━━━\u001b[0m\u001b[37m\u001b[0m \u001b[1m5s\u001b[0m 4ms/step - accuracy: 0.9918 - loss: 0.0257 - val_accuracy: 0.9668 - val_loss: 0.1268\n",
      "Epoch 8/10\n",
      "\u001b[1m1407/1407\u001b[0m \u001b[32m━━━━━━━━━━━━━━━━━━━━\u001b[0m\u001b[37m\u001b[0m \u001b[1m4s\u001b[0m 3ms/step - accuracy: 0.9929 - loss: 0.0226 - val_accuracy: 0.9704 - val_loss: 0.1151\n",
      "Epoch 9/10\n",
      "\u001b[1m1407/1407\u001b[0m \u001b[32m━━━━━━━━━━━━━━━━━━━━\u001b[0m\u001b[37m\u001b[0m \u001b[1m5s\u001b[0m 3ms/step - accuracy: 0.9940 - loss: 0.0180 - val_accuracy: 0.9700 - val_loss: 0.1286\n",
      "Epoch 10/10\n",
      "\u001b[1m1407/1407\u001b[0m \u001b[32m━━━━━━━━━━━━━━━━━━━━\u001b[0m\u001b[37m\u001b[0m \u001b[1m5s\u001b[0m 3ms/step - accuracy: 0.9946 - loss: 0.0159 - val_accuracy: 0.9727 - val_loss: 0.1186\n"
     ]
    },
    {
     "data": {
      "text/plain": [
       "<keras.src.callbacks.history.History at 0x7eaa850f8260>"
      ]
     },
     "execution_count": 26,
     "metadata": {},
     "output_type": "execute_result"
    }
   ],
   "source": [
    "model.fit(x_train, y_train, epochs=10, batch_size=32, validation_split=0.25)"
   ]
  },
  {
   "cell_type": "markdown",
   "id": "8e24ac87-1109-484b-8098-0f0596b4edce",
   "metadata": {},
   "source": [
    "# Evaluate the model's performance on the test data"
   ]
  },
  {
   "cell_type": "code",
   "execution_count": 28,
   "id": "1a6a1581-9c3b-48b4-9b0a-add022794ac0",
   "metadata": {},
   "outputs": [
    {
     "name": "stdout",
     "output_type": "stream",
     "text": [
      "\u001b[1m313/313\u001b[0m \u001b[32m━━━━━━━━━━━━━━━━━━━━\u001b[0m\u001b[37m\u001b[0m \u001b[1m0s\u001b[0m 1ms/step - accuracy: 0.9703 - loss: 0.1114\n",
      "0.10010220855474472\n"
     ]
    },
    {
     "data": {
      "text/plain": [
       "0.9745000004768372"
      ]
     },
     "execution_count": 28,
     "metadata": {},
     "output_type": "execute_result"
    }
   ],
   "source": [
    "test_loss, test_accuracy = model.evaluate(x_test, y_test)\n",
    "print(f\"{test_loss}\")\n",
    "test_accuracy"
   ]
  },
  {
   "cell_type": "markdown",
   "id": "8c57e369-9ad7-4a46-a1de-62f30ff70ecf",
   "metadata": {},
   "source": [
    "# Predict on the test set"
   ]
  },
  {
   "cell_type": "code",
   "execution_count": 29,
   "id": "0d1fd0fd-7ead-4401-9fed-4138bba03bc7",
   "metadata": {},
   "outputs": [
    {
     "name": "stdout",
     "output_type": "stream",
     "text": [
      "\u001b[1m313/313\u001b[0m \u001b[32m━━━━━━━━━━━━━━━━━━━━\u001b[0m\u001b[37m\u001b[0m \u001b[1m0s\u001b[0m 1ms/step\n"
     ]
    }
   ],
   "source": [
    "y_pred = model.predict(x_test)"
   ]
  },
  {
   "cell_type": "code",
   "execution_count": 30,
   "id": "7ec03483-b646-4ecf-96c1-4b0fc1b1d7bb",
   "metadata": {},
   "outputs": [],
   "source": [
    "y_classes = np.argmax(y_pred, axis=1)  # Convert probabilities to class labels"
   ]
  },
  {
   "cell_type": "markdown",
   "id": "cb8336e8-52fb-44bc-985c-0577ca213876",
   "metadata": {},
   "source": [
    "# Comput the confusion matrix"
   ]
  },
  {
   "cell_type": "code",
   "execution_count": 31,
   "id": "3aba0dac-5cea-455b-a292-bb01a01733c0",
   "metadata": {},
   "outputs": [],
   "source": [
    "cm = confusion_matrix(y_test, y_classes)"
   ]
  },
  {
   "cell_type": "code",
   "execution_count": 32,
   "id": "46a6f63c-d8fb-4aee-a0c6-c1a51c053e99",
   "metadata": {},
   "outputs": [
    {
     "data": {
      "image/png": "[encoded data removed]",
      "text/plain": [
       "<Figure size 640x480 with 2 Axes>"
      ]
     },
     "metadata": {},
     "output_type": "display_data"
    }
   ],
   "source": [
    "dis = ConfusionMatrixDisplay(confusion_matrix=cm, display_labels=np.arange(10))\n",
    "dis.plot(cmap=plt.cm.Blues)\n",
    "plt.title(\"Confusion Matrix\")\n",
    "plt.show()"
   ]
  },
  {
   "cell_type": "code",
   "execution_count": null,
   "id": "7c425377-798a-476c-8b21-308905bb4693",
   "metadata": {},
   "outputs": [],
   "source": []
  }
 ],
 "metadata": {
  "kernelspec": {
   "display_name": "Python 3 (ipykernel)",
   "language": "python",
   "name": "python3"
  },
  "language_info": {
   "codemirror_mode": {
    "name": "ipython",
    "version": 3
   },
   "file_extension": ".py",
   "mimetype": "text/x-python",
   "name": "python",
   "nbconvert_exporter": "python",
   "pygments_lexer": "ipython3",
   "version": "3.12.2"
  }
 },
 "nbformat": 4,
 "nbformat_minor": 5
}
