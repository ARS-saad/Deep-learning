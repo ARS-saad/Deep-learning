


import pandas as pd
import numpy as np
import plotly.express as px
from sklearn.model_selection import train_test_split
from sklearn.preprocessing import StandardScaler, LabelEncoder, OneHotEncoder
from sklearn.metrics import classification_report, confusion_matrix, accuracy_score
from keras.models import Sequential
from keras.layers import Dense
from keras.models import load_model





data = pd.read_csv('Churn_Modelling.csv')
data.head()


data.isnull().sum()





data.drop(columns=['RowNumber', 'CustomerId', 'Surname'], inplace=True)
data.head()


data.shape





le_gender = LabelEncoder()
data['Gender'] = le_gender.fit_transform(data['Gender'])
data.tail()


data['Geography'].value_counts()


one_geography = OneHotEncoder(drop='first')
geo_encoded = one_geography.fit_transform(data[['Geography']]).toarray()
geo_encoded_df = pd.DataFrame(geo_encoded, columns=one_geography.get_feature_names_out(['Geography']))
geo_encoded_df


data = pd.concat([data.drop(columns=['Geography']), geo_encoded_df], axis=1)
data.head()





x = data.drop(columns=['Exited'], axis=1)
y = data[['Exited']]





scaler = StandardScaler()
x = scaler.fit_transform(x)





data.corr()


data.describe()





x_train, x_test, y_train, y_test = train_test_split(x, y, test_size=.3, random_state=52, stratify=y)


x_train.shape


x_test.shape





model = Sequential([
    Dense(units=32, activation='relu', input_dim=x_train.shape[1]),
    Dense(units=16, activation='relu'),
    Dense(units=8, activation='relu'),
    Dense(units=1, activation='sigmoid')
])





model.compile(optimizer='adam',
              loss='binary_crossentropy',
              metrics=['accuracy'])





history = model.fit(
    x_train,
    y_train,
    epochs=10,
    batch_size=100,
    validation_data=(x_test, y_test)
)





y_pred = (model.predict(x_test) > .5).astype(int)


accuracy_score(y_test, y_pred)


print(classification_report(y_test, y_pred))


cm = confusion_matrix(y_test, y_pred)
cm



