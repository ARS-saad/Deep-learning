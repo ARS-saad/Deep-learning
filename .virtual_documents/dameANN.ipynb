


import matplotlib.pyplot as plt
import numpy as np
import tensorflow  as tf 
from keras import Sequential 
from keras.layers import Dense
from keras.datasets import mnist
#import tensorflow_datasets as tfds
from sklearn.metrics import confusion_matrix, ConfusionMatrixDisplay
#from tensorflow.keras.models import Sequential





(x_train, y_train), (x_test, y_test) = mnist.load_data()


len(x_train)


plt.imshow(x_train[0])
plt.title(f"Label: {y_train[0]}")
plt.axis('off')
plt.show()





x_train = x_train.reshape(-1, 28*28) / 255
x_test = x_test.reshape(-1, 28*28) / 255





model = Sequential([
    Dense(128, activation='relu', input_shape=(28*28,)),  # Input layer
    Dense(64, activation='relu'),                         # Hidden layer
    Dense(10, activation='softmax')                       # Output layer
])





model.compile(
    optimizer='adam',
    loss='sparse_categorical_crossentropy',
    metrics=['accuracy']
)





model.fit(x_train, y_train, epochs=10, batch_size=32, validation_split=0.25)





test_loss, test_accuracy = model.evaluate(x_test, y_test)
print(f"{test_loss}")
test_accuracy





y_pred = model.predict(x_test)


y_classes = np.argmax(y_pred, axis=1)  # Convert probabilities to class labels





cm = confusion_matrix(y_test, y_classes)


dis = ConfusionMatrixDisplay(confusion_matrix=cm, display_labels=np.arange(10))
dis.plot(cmap=plt.cm.Blues)
plt.title("Confusion Matrix")
plt.show()



