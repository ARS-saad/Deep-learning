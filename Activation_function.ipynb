{
 "cells": [
  {
   "cell_type": "code",
   "execution_count": 1,
   "id": "494b18e0-385b-402c-97ea-c2a2f59ec81c",
   "metadata": {},
   "outputs": [],
   "source": [
    "import numpy as np"
   ]
  },
  {
   "cell_type": "markdown",
   "id": "ff698566-cc42-4880-a4eb-9f55c2b6c2f2",
   "metadata": {},
   "source": [
    "# ReLU"
   ]
  },
  {
   "cell_type": "code",
   "execution_count": 4,
   "id": "a94e283b-5b52-4abe-8d73-ea7eed6300e9",
   "metadata": {},
   "outputs": [],
   "source": [
    "def relu(num):\n",
    "    return np.maximum(0, num)"
   ]
  },
  {
   "cell_type": "code",
   "execution_count": 5,
   "id": "9ce4e889-8974-4f4c-9226-694af11c9e59",
   "metadata": {},
   "outputs": [
    {
     "data": {
      "text/plain": [
       "10"
      ]
     },
     "execution_count": 5,
     "metadata": {},
     "output_type": "execute_result"
    }
   ],
   "source": [
    "relu(10)"
   ]
  },
  {
   "cell_type": "code",
   "execution_count": 6,
   "id": "ca5cfacd-27a2-4ae2-b179-18b518e24388",
   "metadata": {},
   "outputs": [
    {
     "data": {
      "text/plain": [
       "0"
      ]
     },
     "execution_count": 6,
     "metadata": {},
     "output_type": "execute_result"
    }
   ],
   "source": [
    "relu(-10)"
   ]
  },
  {
   "cell_type": "code",
   "execution_count": 7,
   "id": "cbd36d41-a0ac-4cb8-96b4-51e0e5cfaad1",
   "metadata": {},
   "outputs": [
    {
     "data": {
      "text/plain": [
       "array([0, 0, 6, 7])"
      ]
     },
     "execution_count": 7,
     "metadata": {},
     "output_type": "execute_result"
    }
   ],
   "source": [
    "relu(np.array([-3, 0, 6, 7]))"
   ]
  },
  {
   "cell_type": "markdown",
   "id": "84dadcbd-c995-42b9-bc9f-737d5ea7b89a",
   "metadata": {},
   "source": [
    "# Leaky ReLU"
   ]
  },
  {
   "cell_type": "code",
   "execution_count": 8,
   "id": "5cfdd6c9-49c4-428a-a31e-4e3d381344b6",
   "metadata": {},
   "outputs": [],
   "source": [
    "def leaky_relur(x, alpha=.01):\n",
    "    return np.where(x > 0, x, x * alpha)"
   ]
  },
  {
   "cell_type": "code",
   "execution_count": 9,
   "id": "d0f06005-1725-46e8-8e8a-e9967cc7187a",
   "metadata": {},
   "outputs": [
    {
     "data": {
      "text/plain": [
       "array(-0.06)"
      ]
     },
     "execution_count": 9,
     "metadata": {},
     "output_type": "execute_result"
    }
   ],
   "source": [
    "leaky_relur(-6)"
   ]
  },
  {
   "cell_type": "code",
   "execution_count": 10,
   "id": "fd8f71bb-ec6d-472f-830b-fcbd924d09cd",
   "metadata": {},
   "outputs": [
    {
     "data": {
      "text/plain": [
       "array([-0.04, -0.02,  0.  ,  4.  ,  3.  ])"
      ]
     },
     "execution_count": 10,
     "metadata": {},
     "output_type": "execute_result"
    }
   ],
   "source": [
    "leaky_relur(np.array([-4, -2, 0, 4, 3]))"
   ]
  },
  {
   "cell_type": "markdown",
   "id": "e691b043-e952-4908-b299-930257943397",
   "metadata": {},
   "source": [
    "# ELU"
   ]
  },
  {
   "cell_type": "code",
   "execution_count": 11,
   "id": "ced80b0b-dc86-424b-beb6-1518eb27caf1",
   "metadata": {},
   "outputs": [],
   "source": [
    "def elu(x, alpha=1.0):\n",
    "    return np.where(x > 0, x, alpha * (np.exp(x) -1))"
   ]
  },
  {
   "cell_type": "code",
   "execution_count": 12,
   "id": "59868206-ef14-46c1-9ac7-9c662dfdb31d",
   "metadata": {},
   "outputs": [
    {
     "data": {
      "text/plain": [
       "array(-0.98168436)"
      ]
     },
     "execution_count": 12,
     "metadata": {},
     "output_type": "execute_result"
    }
   ],
   "source": [
    "elu(-4)"
   ]
  },
  {
   "cell_type": "code",
   "execution_count": 13,
   "id": "cd5e95a8-be32-47b2-a0ce-7c7d2ee21c72",
   "metadata": {},
   "outputs": [
    {
     "data": {
      "text/plain": [
       "array([-0.98168436, -0.86466472,  0.        ,  5.        ,  6.        ])"
      ]
     },
     "execution_count": 13,
     "metadata": {},
     "output_type": "execute_result"
    }
   ],
   "source": [
    "elu(np.array([-4, -2, 0, 5, 6]))"
   ]
  },
  {
   "cell_type": "markdown",
   "id": "5f294029-6edf-4b19-965a-d237b875357b",
   "metadata": {},
   "source": [
    "# Sigmoid"
   ]
  },
  {
   "cell_type": "code",
   "execution_count": 14,
   "id": "a9dc258a-1c0e-47ae-80fd-219bd361631e",
   "metadata": {},
   "outputs": [],
   "source": [
    "def sigmoid(x):\n",
    "    return 1 / (1 + np.exp(-x))"
   ]
  },
  {
   "cell_type": "code",
   "execution_count": 15,
   "id": "08ac8262-855d-47e1-9f2f-bc53903cab35",
   "metadata": {},
   "outputs": [
    {
     "data": {
      "text/plain": [
       "array([0.00669285, 0.11920292, 0.5       , 0.99330715, 0.99966465])"
      ]
     },
     "execution_count": 15,
     "metadata": {},
     "output_type": "execute_result"
    }
   ],
   "source": [
    "sigmoid(np.array([-5, -2, 0, 5, 8]))"
   ]
  },
  {
   "cell_type": "markdown",
   "id": "d9bd1f88-c0e5-408a-850d-c7a578077b63",
   "metadata": {},
   "source": [
    "# Softmax"
   ]
  },
  {
   "cell_type": "code",
   "execution_count": 29,
   "id": "ba037ef7-ca3e-4604-8677-8dcee70df424",
   "metadata": {},
   "outputs": [],
   "source": [
    "def softmax(x):\n",
    "    e_x = np.exp(x)\n",
    "    return e_x / e_x.sum(axis=0)"
   ]
  },
  {
   "cell_type": "code",
   "execution_count": 30,
   "id": "ff29641d-1b3e-41d0-8395-e27a3f497b81",
   "metadata": {},
   "outputs": [
    {
     "data": {
      "text/plain": [
       "array([0.62853172, 0.2312239 , 0.14024438])"
      ]
     },
     "execution_count": 30,
     "metadata": {},
     "output_type": "execute_result"
    }
   ],
   "source": [
    "softmax(np.array([2, 1, .5]))"
   ]
  },
  {
   "cell_type": "markdown",
   "id": "a21ae6e4-dcfe-4cc0-984a-8e0a04d20497",
   "metadata": {},
   "source": [
    "# Swish"
   ]
  },
  {
   "cell_type": "code",
   "execution_count": 31,
   "id": "dac1266c-255f-4122-87c5-a2bb3812e289",
   "metadata": {},
   "outputs": [],
   "source": [
    "def swish(x, beta=1.0):\n",
    "    return x * sigmoid(beta * x)"
   ]
  },
  {
   "cell_type": "code",
   "execution_count": 32,
   "id": "0ad4a5bb-59d1-41a3-8f19-abae1b80fa84",
   "metadata": {},
   "outputs": [
    {
     "data": {
      "text/plain": [
       "4.966535745378576"
      ]
     },
     "execution_count": 32,
     "metadata": {},
     "output_type": "execute_result"
    }
   ],
   "source": [
    "swish(5)"
   ]
  },
  {
   "cell_type": "code",
   "execution_count": 41,
   "id": "6dcb0170-a375-4d1c-bb33-77ece847011b",
   "metadata": {},
   "outputs": [
    {
     "data": {
      "text/plain": [
       "array([-0.14227762,  0.        ,  4.96653575,  6.99362264])"
      ]
     },
     "execution_count": 41,
     "metadata": {},
     "output_type": "execute_result"
    }
   ],
   "source": [
    "swish(np.array([-3, 0, 5, 7]))"
   ]
  },
  {
   "cell_type": "markdown",
   "id": "c44d1fb5-7ffa-4bbf-a5ab-ba6d93bfcd97",
   "metadata": {},
   "source": [
    "# Linear"
   ]
  },
  {
   "cell_type": "code",
   "execution_count": 34,
   "id": "4ceee582-8c1b-410a-bc21-9ef0f0e1bd04",
   "metadata": {},
   "outputs": [],
   "source": [
    "def linear(x):\n",
    "    return x"
   ]
  },
  {
   "cell_type": "code",
   "execution_count": 35,
   "id": "029e2f72-cb3a-4e59-88ca-f632217d5f64",
   "metadata": {},
   "outputs": [
    {
     "data": {
      "text/plain": [
       "23"
      ]
     },
     "execution_count": 35,
     "metadata": {},
     "output_type": "execute_result"
    }
   ],
   "source": [
    "linear(23)"
   ]
  },
  {
   "cell_type": "markdown",
   "id": "e94c4133-5e32-4fd6-a91b-6e21846ee1b0",
   "metadata": {},
   "source": [
    "# Tanh"
   ]
  },
  {
   "cell_type": "code",
   "execution_count": 36,
   "id": "116b6854-1de1-4657-8404-4556a3f3f310",
   "metadata": {},
   "outputs": [],
   "source": [
    "def tanh(x):\n",
    "    return np.tanh(x)"
   ]
  },
  {
   "cell_type": "code",
   "execution_count": 38,
   "id": "c32058d2-68b1-4004-986d-2def0d0db698",
   "metadata": {},
   "outputs": [
    {
     "data": {
      "text/plain": [
       "0.9999092042625951"
      ]
     },
     "execution_count": 38,
     "metadata": {},
     "output_type": "execute_result"
    }
   ],
   "source": [
    "tanh(5)"
   ]
  },
  {
   "cell_type": "code",
   "execution_count": 39,
   "id": "eda8986d-db02-462a-8bcd-3c03802456b2",
   "metadata": {},
   "outputs": [
    {
     "data": {
      "text/plain": [
       "array([-0.9993293 , -0.76159416,  0.        ,  0.99505475,  0.99998771])"
      ]
     },
     "execution_count": 39,
     "metadata": {},
     "output_type": "execute_result"
    }
   ],
   "source": [
    "tanh(np.array([-4, -1, 0, 3, 6]))"
   ]
  }
 ],
 "metadata": {
  "kernelspec": {
   "display_name": "Python 3 (ipykernel)",
   "language": "python",
   "name": "python3"
  },
  "language_info": {
   "codemirror_mode": {
    "name": "ipython",
    "version": 3
   },
   "file_extension": ".py",
   "mimetype": "text/x-python",
   "name": "python",
   "nbconvert_exporter": "python",
   "pygments_lexer": "ipython3",
   "version": "3.12.2"
  }
 },
 "nbformat": 4,
 "nbformat_minor": 5
}
