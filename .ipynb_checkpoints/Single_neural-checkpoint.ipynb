{
 "cells": [
  {
   "cell_type": "code",
   "execution_count": 1,
   "id": "f6400fa7-a3af-4316-8935-d56a03a5e3f2",
   "metadata": {},
   "outputs": [],
   "source": [
    "import numpy as np"
   ]
  },
  {
   "cell_type": "markdown",
   "id": "7fdbcf2c-ad74-41d5-8a08-7b9a833a6135",
   "metadata": {},
   "source": [
    "sigmoid for doule classification output"
   ]
  },
  {
   "cell_type": "code",
   "execution_count": 3,
   "id": "b058880f-b677-4b62-9249-acd3077ff3bc",
   "metadata": {},
   "outputs": [],
   "source": [
    "def sigmoid(x):\n",
    "    return 1 / (1 + np.exp(-x))"
   ]
  },
  {
   "cell_type": "markdown",
   "id": "4ba9e57a-228c-46ad-85de-30289fb17cb5",
   "metadata": {},
   "source": [
    "core neuron ingine"
   ]
  },
  {
   "cell_type": "code",
   "execution_count": 4,
   "id": "a6ea25a8-bc29-4592-bcd5-ead3adaccd12",
   "metadata": {},
   "outputs": [],
   "source": [
    "def feedforward(weights, bias, inputs):\n",
    "    total = sum(w*x for w, x in zip(weights, inputs)) + bias\n",
    "    return sigmoid(total)"
   ]
  },
  {
   "cell_type": "markdown",
   "id": "860dddf2-9c6a-42e9-8b8d-cc7bf89c6bb2",
   "metadata": {},
   "source": [
    "other code"
   ]
  },
  {
   "cell_type": "code",
   "execution_count": 5,
   "id": "4e48e923-6371-4414-8ba7-15143b49f847",
   "metadata": {},
   "outputs": [],
   "source": [
    "def classify(output, threshold=.5):\n",
    "    return 1 if output >= threshold else 0"
   ]
  },
  {
   "cell_type": "code",
   "execution_count": 19,
   "id": "75267a6c-1c08-42c6-a82a-05e0d94db7e7",
   "metadata": {},
   "outputs": [
    {
     "name": "stdout",
     "output_type": "stream",
     "text": [
      "Output of the number for inputs [-5, 0] is: 0.6224593312018546\n"
     ]
    }
   ],
   "source": [
    "weights = [0, 1]\n",
    "bias = 0.5\n",
    "\n",
    "inputs = [-5, 0]\n",
    "\n",
    "output = feedforward(weights, bias, inputs)\n",
    "print(f\"Output of the number for inputs {inputs} is: {output}\")"
   ]
  },
  {
   "cell_type": "code",
   "execution_count": 20,
   "id": "eae2f5be-ea04-4010-8ff7-46a0950a5370",
   "metadata": {},
   "outputs": [
    {
     "name": "stdout",
     "output_type": "stream",
     "text": [
      "Class label for the output is: 1\n"
     ]
    }
   ],
   "source": [
    "class_label = classify(output)\n",
    "print(f\"Class label for the output is: {class_label}\")"
   ]
  }
 ],
 "metadata": {
  "kernelspec": {
   "display_name": "Python 3 (ipykernel)",
   "language": "python",
   "name": "python3"
  },
  "language_info": {
   "codemirror_mode": {
    "name": "ipython",
    "version": 3
   },
   "file_extension": ".py",
   "mimetype": "text/x-python",
   "name": "python",
   "nbconvert_exporter": "python",
   "pygments_lexer": "ipython3",
   "version": "3.12.2"
  }
 },
 "nbformat": 4,
 "nbformat_minor": 5
}
